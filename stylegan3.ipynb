{
  "nbformat": 4,
  "nbformat_minor": 0,
  "metadata": {
    "accelerator": "GPU",
    "colab": {
      "provenance": [],
      "machine_shape": "hm",
      "include_colab_link": true
    },
    "kernelspec": {
      "display_name": "Python 3",
      "name": "python3"
    },
    "language_info": {
      "name": "python"
    }
  },
  "cells": [
    {
      "cell_type": "markdown",
      "metadata": {
        "id": "view-in-github",
        "colab_type": "text"
      },
      "source": [
        "<a href=\"https://colab.research.google.com/github/kronkinatorix/POOPYBUTTS/blob/main/stylegan3.ipynb\" target=\"_parent\"><img src=\"https://colab.research.google.com/assets/colab-badge.svg\" alt=\"Open In Colab\"/></a>"
      ]
    },
    {
      "cell_type": "markdown",
      "metadata": {
        "id": "Vn5kRZG8cZFl"
      },
      "source": [
        "# StyleGAN3 from NVIDIA\n",
        "\n",
        "**Notes**\n",
        "* To see the original code from NVIDIA [Check here](https://github.com/NVlabs/stylegan3)\n",
        "* We are using a pretrained model and fine-tuning on top of it.\n",
        "* If you come across bugs please post them in [Discord](https://discord.com/invite/awREd7EtMA)\n",
        "\n",
        "---\n",
        "\n",
        "If you find this notebook useful, consider signing up for my [Code Sprout Newsletter](https://codesprout.substack.com/welcome) or [Check my links](https://shyambv.bio.link/)\n",
        "\n",
        "Medium article related to it is mentioned []()"
      ]
    },
    {
      "cell_type": "markdown",
      "metadata": {
        "id": "L4Y28xIshBYs"
      },
      "source": [
        "# Setup"
      ]
    },
    {
      "cell_type": "code",
      "metadata": {
        "colab": {
          "base_uri": "https://localhost:8080/"
        },
        "id": "APfJ_U0vx1rH",
        "outputId": "f4f998d0-ba1c-4b28-9d6c-14d8cc3170a7"
      },
      "source": [
        "!pip install einops ninja gdown"
      ],
      "execution_count": null,
      "outputs": [
        {
          "output_type": "stream",
          "name": "stdout",
          "text": [
            "Collecting einops\n",
            "  Downloading einops-0.3.2-py3-none-any.whl (25 kB)\n",
            "Collecting ninja\n",
            "  Downloading ninja-1.10.2.2-py2.py3-none-manylinux_2_5_x86_64.manylinux1_x86_64.whl (108 kB)\n",
            "\u001b[?25l\r\u001b[K     |███                             | 10 kB 34.2 MB/s eta 0:00:01\r\u001b[K     |██████                          | 20 kB 35.9 MB/s eta 0:00:01\r\u001b[K     |█████████                       | 30 kB 19.1 MB/s eta 0:00:01\r\u001b[K     |████████████▏                   | 40 kB 7.5 MB/s eta 0:00:01\r\u001b[K     |███████████████▏                | 51 kB 9.1 MB/s eta 0:00:01\r\u001b[K     |██████████████████▏             | 61 kB 9.1 MB/s eta 0:00:01\r\u001b[K     |█████████████████████▏          | 71 kB 8.7 MB/s eta 0:00:01\r\u001b[K     |████████████████████████▎       | 81 kB 9.6 MB/s eta 0:00:01\r\u001b[K     |███████████████████████████▎    | 92 kB 10.6 MB/s eta 0:00:01\r\u001b[K     |██████████████████████████████▎ | 102 kB 11.6 MB/s eta 0:00:01\r\u001b[K     |████████████████████████████████| 108 kB 11.6 MB/s \n",
            "\u001b[?25hInstalling collected packages: ninja, einops\n",
            "Successfully installed einops-0.3.2 ninja-1.10.2.2\n"
          ]
        }
      ]
    },
    {
      "cell_type": "code",
      "metadata": {
        "colab": {
          "base_uri": "https://localhost:8080/"
        },
        "id": "WbCGexOebBGi",
        "outputId": "a15be705-0924-4b1e-fbb6-935a02cf5681"
      },
      "source": [
        "# Connect Google Drive\n",
        "from google.colab import drive\n",
        "drive.mount('/content/drive')"
      ],
      "execution_count": null,
      "outputs": [
        {
          "output_type": "stream",
          "name": "stdout",
          "text": [
            "Mounted at /content/drive\n"
          ]
        }
      ]
    },
    {
      "cell_type": "code",
      "metadata": {
        "id": "00S7pPSdhZ5g",
        "colab": {
          "base_uri": "https://localhost:8080/"
        },
        "outputId": "072b4b47-bfd4-46d0-e710-3e4ab4003749"
      },
      "source": [
        "import os\n",
        "if os.path.isdir('/content/drive/MyDrive/WIP/stylegan3/'):\n",
        "    %cd '/content/drive/MyDrive/WIP/stylegan3/'\n",
        "else:\n",
        "    !git clone https://github.com/bvshyam/stylegan3.git /content/drive/MyDrive/WIP/stylegan3/\n",
        "    %cd '/content/drive/MyDrive/WIP/stylegan3/'\n"
      ],
      "execution_count": null,
      "outputs": [
        {
          "output_type": "stream",
          "name": "stdout",
          "text": [
            "/content/drive/MyDrive/WIP/stylegan3\n"
          ]
        }
      ]
    },
    {
      "cell_type": "markdown",
      "metadata": {
        "id": "YdcPGVQhLzIN"
      },
      "source": [
        "If you wanted to download the current dataset execute below code"
      ]
    },
    {
      "cell_type": "code",
      "metadata": {
        "id": "_4VLf_dn4JGd"
      },
      "source": [
        "#!bash /content/drive/MyDrive/WIP/stargan-v2-download/download.sh afhq-dataset\n"
      ],
      "execution_count": null,
      "outputs": []
    },
    {
      "cell_type": "markdown",
      "metadata": {
        "id": "TowZS-EIjjxw"
      },
      "source": [
        "# Custom Dataset"
      ]
    },
    {
      "cell_type": "markdown",
      "metadata": {
        "id": "EFhH_aHtj934"
      },
      "source": [
        "Execute the dataset_tool.py and provide the source and destination of the input dataset. Also mention the resolution required.\n",
        "\n",
        "Examples:\n",
        "\n",
        "\n",
        "\n",
        "```\n",
        "python dataset_tool.py --source=~/downloads/afhqv2/train/cat --dest=~/datasets/afhqv2cat-512x512.zip\n",
        "python dataset_tool.py --source=~/downloads/afhqv2/train/dog --dest=~/datasets/afhqv2dog-512x512.zip\n",
        "python dataset_tool.py --source=~/downloads/afhqv2/train/wild --dest=~/datasets/afhqv2wild-512x512.zip\n",
        "```\n",
        "\n",
        "\n"
      ]
    },
    {
      "cell_type": "code",
      "metadata": {
        "colab": {
          "base_uri": "https://localhost:8080/"
        },
        "id": "c-MMpE-M6I-j",
        "outputId": "07054e70-ee81-4157-945a-96db048279f3"
      },
      "source": [
        "!python dataset_tool.py --source=/content/artimages/ --dest=/content/drive/MyDrive/WIP/stylegan3/datasets/artimages-512x512.zip --resolution='512x512'\n"
      ],
      "execution_count": null,
      "outputs": [
        {
          "name": "stdout",
          "output_type": "stream",
          "text": [
            "\r  0% 0/2 [00:00<?, ?it/s]\r100% 2/2 [00:00<00:00, 13.43it/s]\r100% 2/2 [00:00<00:00, 13.41it/s]\n"
          ]
        }
      ]
    },
    {
      "cell_type": "code",
      "metadata": {
        "id": "GZWpgi9Ij-3q"
      },
      "source": [
        "#Unzip the transformed data if you wanted to verify\n",
        "!unzip /content/drive/MyDrive/WIP/stylegan3/datasets/artimages-512x512.zip -d /content/data/artimages_unzipped"
      ],
      "execution_count": null,
      "outputs": []
    },
    {
      "cell_type": "markdown",
      "metadata": {
        "id": "5YPvBu7plAqg"
      },
      "source": [
        "# Model training"
      ]
    },
    {
      "cell_type": "markdown",
      "metadata": {
        "id": "Vb71nLldlDib"
      },
      "source": [
        "You can start from a pre-trained model. Below are some of the models from Nvdia\n",
        "\n",
        "\n",
        "\n",
        "```\n",
        "stylegan3-t-ffhq-1024x1024.pkl, stylegan3-t-ffhqu-1024x1024.pkl, stylegan3-t-ffhqu-256x256.pkl\n",
        "stylegan3-r-ffhq-1024x1024.pkl, stylegan3-r-ffhqu-1024x1024.pkl, stylegan3-r-ffhqu-256x256.pkl\n",
        "stylegan3-t-metfaces-1024x1024.pkl, stylegan3-t-metfacesu-1024x1024.pkl\n",
        "stylegan3-r-metfaces-1024x1024.pkl, stylegan3-r-metfacesu-1024x1024.pkl\n",
        "stylegan3-t-afhqv2-512x512.pkl\n",
        "stylegan3-r-afhqv2-512x512.pkl\n",
        "```\n",
        "\n"
      ]
    },
    {
      "cell_type": "markdown",
      "metadata": {
        "id": "xYAosYKxlGBs"
      },
      "source": [
        "## Using pre-trainined model"
      ]
    },
    {
      "cell_type": "code",
      "metadata": {
        "id": "6Dt7NAJ6EYhe"
      },
      "source": [
        "\n",
        "# Fine-tune StyleGAN3-R for MetFaces-U using 1 GPU, starting from the pre-trained FFHQ-U pickle.\n",
        "!python /content/drive/MyDrive/WIP/stylegan3/train.py --outdir=~/training-runs --cfg=stylegan3-r --data=/content/artimages-512x512.zip \\\n",
        "    --gpus=1 --batch=32 --batch-gpu=16 --gamma=6.6 --mirror=1 --kimg=500 --snap=5 \\\n",
        "    --resume=https://api.ngc.nvidia.com/v2/models/nvidia/research/stylegan3/versions/1/files/stylegan3-r-ffhqu-1024x1024.pkl\n"
      ],
      "execution_count": null,
      "outputs": []
    },
    {
      "cell_type": "markdown",
      "metadata": {
        "id": "bJ5NFiJpm-Mf"
      },
      "source": [
        "## Finetuning a model"
      ]
    },
    {
      "cell_type": "code",
      "metadata": {
        "id": "0z2DJq9InBUl"
      },
      "source": [
        "batch_size = 16\n",
        "batch_gpu_size = 8 # Batch size for GPU\n",
        "\n",
        "dataset_path = '/content/drive/MyDrive/WIP/stylegan3/datasets/artimages-512x512.zip'\n",
        "#resume_from = '/content/drive/MyDrive/WIP/stylegan3/models/stylegan3-t-afhqv2-512x512.pkl'  #Can be the link from nvidia\n",
        "resume_from ='/content/drive/MyDrive/WIP/stylegan3/models/network-a657-r-512-148863.pkl'\n",
        "\n",
        "\n",
        "gamma_value = 50.0 #Adjustable R1 regularization weight\n",
        "snapshot_count = 8"
      ],
      "execution_count": null,
      "outputs": []
    },
    {
      "cell_type": "code",
      "metadata": {
        "id": "msjpvR1Z0UM8"
      },
      "source": [
        "\n",
        "# Fine-tune StyleGAN3-R for MetFaces-U using 1 GPU, starting from the pre-trained FFHQ-U pickle.\n",
        "!python /content/drive/MyDrive/WIP/stylegan3/train.py --outdir=/content/drive/MyDrive/WIP/stylegan3/results --cfg=stylegan3-t \\\n",
        "--data=$dataset_path --gpus=1 --batch=$batch_size --batch-gpu=$batch_gpu_size --gamma=$gamma_value --kimg=1 \\\n",
        "--snap=$snapshot_count --resume=$resume_from\n",
        "\n"
      ],
      "execution_count": null,
      "outputs": []
    },
    {
      "cell_type": "code",
      "metadata": {
        "id": "MM2QNuOv00q7"
      },
      "source": [],
      "execution_count": null,
      "outputs": []
    },
    {
      "cell_type": "code",
      "metadata": {
        "id": "4nd9sBc00UPU"
      },
      "source": [],
      "execution_count": null,
      "outputs": []
    },
    {
      "cell_type": "code",
      "metadata": {
        "id": "vtYpyFAu0URw"
      },
      "source": [
        "#Visualization - does not work on colab\n",
        "#!python /content/drive/MyDrive/WIP/stylegan3/visualizer.py"
      ],
      "execution_count": null,
      "outputs": []
    },
    {
      "cell_type": "code",
      "metadata": {
        "id": "YCzcuKTJ0iEW"
      },
      "source": [],
      "execution_count": null,
      "outputs": []
    },
    {
      "cell_type": "markdown",
      "metadata": {
        "id": "tYw4XWfXhgWk"
      },
      "source": [
        "# Generate images"
      ]
    },
    {
      "cell_type": "code",
      "metadata": {
        "id": "VrSWGWIjykbE"
      },
      "source": [
        "model_path = '/content/drive/MyDrive/WIP/stylegan3/results/00002-stylegan3-t-artimages-512x512-gpus1-batch16-gamma50/network-snapshot-000001.pkl'"
      ],
      "execution_count": null,
      "outputs": []
    },
    {
      "cell_type": "code",
      "metadata": {
        "id": "lYsuiuwIykhn"
      },
      "source": [
        "#Random generation of images using model created\n",
        "\n",
        "!python /content/drive/MyDrive/WIP/stylegan3/gen_images.py --outdir=out --trunc=1 --seeds=40 \\\n",
        "    --network=$model_path"
      ],
      "execution_count": null,
      "outputs": []
    },
    {
      "cell_type": "markdown",
      "metadata": {
        "id": "ZbGxtqncL0dN"
      },
      "source": [
        "Check-out other articles [Medium](https://bvshyam.medium.com/)"
      ]
    }
  ]
}